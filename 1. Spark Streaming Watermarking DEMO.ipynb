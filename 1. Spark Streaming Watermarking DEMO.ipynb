{
 "cells": [
  {
   "cell_type": "markdown",
   "metadata": {},
   "source": [
    "## FIT5202 : Week 11 - Spark Structured Streaming\n",
    "In this lab today, we will look into additional concepts in Spark Structured Streaming like, using File-Sink, implementing windowed aggregations on the streams, handling late event-time data and checkpointing.\n",
    "\n",
    "## Table of Contents\n",
    "\n",
    "* [Write stream output to a parquet file](#parquet)\n",
    "* [Aggregations on Windows over Event-time](#agg)\n",
    "* [Handling Late Events with Watermarking](#water)\n",
    "* [Recovering from Failures with Checkpointing](#checkpoint)    \n",
    "* [Lab Tasks](#lab-task-1)\n",
    "    * <a href=\"./Lab%20Task%20-%20Log%20Analysis.ipynb\" target=\"_blank\">Lab Task 1 (Log Analysis Window Aggregation)</a>    "
   ]
  },
  {
   "cell_type": "markdown",
   "metadata": {},
   "source": [
    "### Step 1\n",
    "Initialize Spark Session"
   ]
  },
  {
   "cell_type": "code",
   "execution_count": 94,
   "metadata": {},
   "outputs": [],
   "source": [
    "import os\n",
    "os.environ['PYSPARK_SUBMIT_ARGS'] = '--packages org.apache.spark:spark-streaming-kafka-0-10_2.12:3.4.0,org.apache.spark:spark-sql-kafka-0-10_2.12:3.4.0 pyspark-shell'\n",
    "\n",
    "from pyspark.sql import SparkSession\n",
    "from pyspark.sql.functions import explode\n",
    "from pyspark.sql.functions import *\n",
    "from pyspark.sql import functions as F\n",
    "from pyspark.sql.types import *\n",
    "\n",
    "\n",
    "\n",
    "spark = SparkSession \\\n",
    "    .builder \\\n",
    "    .appName(\"Clickstream Analysis in Spark\") \\\n",
    "    .getOrCreate()\n"
   ]
  },
  {
   "cell_type": "markdown",
   "metadata": {},
   "source": [
    "### Step 2\n",
    "Connection to Kafka Producer/Broker and subscribe to the topic and load data from Kafka topic with <code>readStream</code>"
   ]
  },
  {
   "cell_type": "code",
   "execution_count": 95,
   "metadata": {},
   "outputs": [],
   "source": [
    "topic = \"clickstream\"\n",
    "#configuration\n",
    "hostip = \"192.168.1.87\" #change me\n",
    "\n",
    "df = spark \\\n",
    "    .readStream \\\n",
    "    .format(\"kafka\") \\\n",
    "    .option(\"kafka.bootstrap.servers\", f\"{hostip}:9092\") \\\n",
    "    .option(\"subscribe\", topic) \\\n",
    "    .load()"
   ]
  },
  {
   "cell_type": "markdown",
   "metadata": {},
   "source": [
    "### Step 3 \n",
    "Converting the key/value from the kafka data stream to string"
   ]
  },
  {
   "cell_type": "code",
   "execution_count": 96,
   "metadata": {},
   "outputs": [],
   "source": [
    "df = df.selectExpr(\"CAST(key AS STRING)\", \"CAST(value AS STRING)\")"
   ]
  },
  {
   "cell_type": "markdown",
   "metadata": {},
   "source": [
    "### Step 4\n",
    "Converting the incoming stream into dataframe based on the schema. Note that, were are receiving a list from the producer, so the schema and other transformations are done accordingly"
   ]
  },
  {
   "cell_type": "code",
   "execution_count": 97,
   "metadata": {},
   "outputs": [],
   "source": [
    "#Define the schema for the structured datastream received\n",
    "schema = ArrayType(StructType([    \n",
    "    StructField('Clicks', IntegerType(), True), \n",
    "    StructField('Impressions', IntegerType(), True),\n",
    "    StructField('ts', TimestampType(), True)            \n",
    "]))"
   ]
  },
  {
   "cell_type": "code",
   "execution_count": 98,
   "metadata": {},
   "outputs": [],
   "source": [
    "df=df.select(F.from_json(F.col(\"value\").cast(\"string\"), schema).alias('parsed_value'))\n",
    "df = df.select(F.explode(F.col(\"parsed_value\")).alias('unnested_value'))  \n",
    "df_formatted = df.select(\n",
    "                    F.col(\"unnested_value.Clicks\").alias(\"Clicks\"),\n",
    "                    F.col(\"unnested_value.Impressions\").alias(\"Impressions\"),\n",
    "                    F.col(\"unnested_value.ts\").alias(\"ts\")\n",
    "                )"
   ]
  },
  {
   "cell_type": "code",
   "execution_count": 99,
   "metadata": {},
   "outputs": [
    {
     "name": "stdout",
     "output_type": "stream",
     "text": [
      "root\n",
      " |-- Clicks: integer (nullable = true)\n",
      " |-- Impressions: integer (nullable = true)\n",
      " |-- ts: timestamp (nullable = true)\n",
      "\n"
     ]
    }
   ],
   "source": [
    "df_formatted.printSchema()"
   ]
  },
  {
   "cell_type": "markdown",
   "metadata": {},
   "source": [
    "### Write stream output to a parquet file (<a href=\"https://spark.apache.org/docs/latest/structured-streaming-programming-guide.html#output-sinks\" target=\"_blank\">File Sink</a>) <a class=\"anchor\" name=\"parquet\"></a>\n",
    "Parquet is a columnar file format that provides optimizations to speed up queries and is far more efficient file format than csv or json. We can <code>format(\"parquet\")</code> to save the query to the parquet file."
   ]
  },
  {
   "cell_type": "code",
   "execution_count": 100,
   "metadata": {},
   "outputs": [],
   "source": [
    "# Write into parquet files the unsuccessful requests partitioned by status code\n",
    "query_file_sink = df_formatted.writeStream.format(\"parquet\")\\\n",
    "        .outputMode(\"append\")\\\n",
    "        .option(\"path\", \"parquet/clickstream_df\")\\\n",
    "        .option(\"checkpointLocation\", \"parquet/clickstream_df/checkpoint\")\\\n",
    "        .start()"
   ]
  },
  {
   "cell_type": "code",
   "execution_count": 101,
   "metadata": {},
   "outputs": [],
   "source": [
    "#Stop the file_sink query\n",
    "query_file_sink.stop()"
   ]
  },
  {
   "cell_type": "markdown",
   "metadata": {},
   "source": [
    "#### Read the saved parquet data"
   ]
  },
  {
   "cell_type": "code",
   "execution_count": 102,
   "metadata": {},
   "outputs": [
    {
     "name": "stdout",
     "output_type": "stream",
     "text": [
      "root\n",
      " |-- Clicks: integer (nullable = true)\n",
      " |-- Impressions: integer (nullable = true)\n",
      " |-- ts: timestamp (nullable = true)\n",
      "\n",
      "+------+-----------+-------------------+\n",
      "|Clicks|Impressions|                 ts|\n",
      "+------+-----------+-------------------+\n",
      "|     0|          3|2023-10-08 05:40:13|\n",
      "|     0|          3|2023-10-08 05:40:13|\n",
      "|     0|          4|2023-10-08 05:40:13|\n",
      "|     0|          2|2023-10-08 05:40:13|\n",
      "|     0|          4|2023-10-08 05:40:13|\n",
      "|     0|          3|2023-10-08 05:40:13|\n",
      "|     0|          7|2023-10-08 05:40:13|\n",
      "|     0|          4|2023-10-08 05:40:13|\n",
      "|     0|          4|2023-10-08 05:40:08|\n",
      "|     1|          8|2023-10-08 05:40:08|\n",
      "|     0|         11|2023-10-08 05:40:08|\n",
      "|     0|          6|2023-10-08 05:40:18|\n",
      "|     0|          7|2023-10-08 05:40:18|\n",
      "|     0|          6|2023-10-08 05:40:18|\n",
      "|     0|          4|2023-10-08 05:40:18|\n",
      "|     0|          4|2023-10-08 05:40:18|\n",
      "|     0|          7|2023-10-08 05:40:18|\n",
      "|     0|          0|2023-10-08 05:40:18|\n",
      "|     0|          5|2023-10-08 05:40:18|\n",
      "|     0|          4|2023-10-08 05:40:13|\n",
      "+------+-----------+-------------------+\n",
      "only showing top 20 rows\n",
      "\n"
     ]
    }
   ],
   "source": [
    "# Read the saved parquet data\n",
    "query_file_sink_df = spark.read.parquet(\"parquet/clickstream_df\")\n",
    "query_file_sink_df.printSchema()\n",
    "query_file_sink_df.show()"
   ]
  },
  {
   "cell_type": "markdown",
   "metadata": {},
   "source": [
    "Here, we have defined a 10 seconds window, to count the number of impressions every 10 seconds. 5 seconds is the overlapping window."
   ]
  },
  {
   "cell_type": "markdown",
   "metadata": {},
   "source": [
    "### Aggregations on Windows over Event-time <a class=\"anchor\" name=\"agg\"></a>\n",
    "Instead of running aggregations over the whole stream, we can aggregate over data bucketed by time window (e.g. every 10 secs). For example, in our use case, we want to calculate the total impressions received by the ad in the last 10 seconds. This 10 second window will be based on the timestamp embedded in the data i.e. <code>ts</code> which we have generated on the producer's side and not the time it is being processed (aka. processing-time)."
   ]
  },
  {
   "cell_type": "code",
   "execution_count": 103,
   "metadata": {},
   "outputs": [],
   "source": [
    "windowedCounts = df_formatted \\\n",
    "    .groupBy(window(df_formatted.ts, \"10 seconds\"))\\\n",
    "    .agg(F.sum(\"Impressions\").alias(\"total\"))\\\n",
    "    .select(\"window\",\"total\")"
   ]
  },
  {
   "cell_type": "markdown",
   "metadata": {},
   "source": [
    "### Handling Late Events with Watermarking <a href=\"https://spark.apache.org/docs/latest/structured-streaming-programming-guide.html#handling-late-data-and-watermarking\" target=\"_BLANK\">[Ref]</a><a class=\"anchor\" name=\"water\"></a>\n",
    "When we are considering event-time, sometimes the data may arrive later than expected. However, we cannot include the data in our current window aggregate if it doesn't fall in the window range. The previous aggregate i.e. old window, where the data falls into needs to be updated appropriately. The concept of <strong>Watermarking</strong> lets the engine automatically track the current event time in the data and update the aggregate window and the states accordingly.\n",
    "\n",
    "We can define the watermark of a query by specifying the event time column and the threshold on how late the data is expected to be in terms of eventtime."
   ]
  },
  {
   "cell_type": "code",
   "execution_count": 109,
   "metadata": {},
   "outputs": [],
   "source": [
    "windowedCounts = df_formatted \\\n",
    "    .withWatermark(\"ts\", \"10 seconds\") \\\n",
    "    .groupBy(window(df_formatted.ts, \"10 seconds\"))\\\n",
    "    .agg(F.sum(\"Impressions\").alias(\"total\"))\\\n",
    "    .select(\"window\",\"total\")"
   ]
  },
  {
   "cell_type": "code",
   "execution_count": 110,
   "metadata": {},
   "outputs": [
    {
     "name": "stdout",
     "output_type": "stream",
     "text": [
      "root\n",
      " |-- window: struct (nullable = false)\n",
      " |    |-- start: timestamp (nullable = true)\n",
      " |    |-- end: timestamp (nullable = true)\n",
      " |-- total: long (nullable = true)\n",
      "\n"
     ]
    }
   ],
   "source": [
    "windowedCounts.printSchema()"
   ]
  },
  {
   "cell_type": "code",
   "execution_count": 112,
   "metadata": {},
   "outputs": [],
   "source": [
    "query = windowedCounts \\\n",
    "    .writeStream \\\n",
    "    .outputMode(\"complete\") \\\n",
    "    .format(\"console\") \\\n",
    "    .trigger(processingTime='5 seconds') \\\n",
    "    .option(\"truncate\",\"false\")\\\n",
    "    .start()"
   ]
  },
  {
   "attachments": {
    "image.png": {
     "image/png": "[encoded data removed]"
    }
   },
   "cell_type": "markdown",
   "metadata": {},
   "source": [
    "In the console, you should be able to see output like this.\n",
    "![image.png](attachment:image.png)"
   ]
  },
  {
   "cell_type": "code",
   "execution_count": 107,
   "metadata": {},
   "outputs": [],
   "source": [
    "query.stop()"
   ]
  },
  {
   "cell_type": "markdown",
   "metadata": {},
   "source": [
    "### Recovering from Failures with Checkpointing <a href=\"https://spark.apache.org/docs/latest/structured-streaming-programming-guide.html#recovering-from-failures-with-checkpointing\" target=\"_blank\">[Ref]</a><a class=\"anchor\" name=\"checkpoint\"></a>\n",
    "In case of a failure or intentional shutdown, you can recover the previous progress and state of a previous query, and continue where it left off. This is done using checkpointing and write-ahead logs. You can configure a query with a checkpoint location, and the query will save all the progress information (i.e. range of offsets processed in each trigger) and the running aggregates (e.g. word counts in the quick example) to the checkpoint location.\n",
    "\n",
    "For example, we have set a checkpoint for the query above i.e. writing to parquet sink.\n",
    "<code>\n",
    "    # Write into parquet files the unsuccessful requests partitioned by status code\n",
    "    query2 = df_formatted.writeStream.format(\"parquet\")\\\n",
    "            .outputMode(\"append\")\\\n",
    "            .option(\"path\", \"parquet/clickstream_df\")\\\n",
    "            .option(\"checkpointLocation\", \"parquet/clickstream_df/checkpoint\")\\\n",
    "            .start()\n",
    "</code>"
   ]
  }
 ],
 "metadata": {
  "kernelspec": {
   "display_name": "Python 3 (ipykernel)",
   "language": "python",
   "name": "python3"
  },
  "language_info": {
   "codemirror_mode": {
    "name": "ipython",
    "version": 3
   },
   "file_extension": ".py",
   "mimetype": "text/x-python",
   "name": "python",
   "nbconvert_exporter": "python",
   "pygments_lexer": "ipython3",
   "version": "3.10.11"
  },
  "vscode": {
   "interpreter": {
    "hash": "fe1e450c854bdbbb5f3b4a1b3cb6ab923087e00cee54f89cc00293cca76a8c2e"
   }
  }
 },
 "nbformat": 4,
 "nbformat_minor": 4
}
